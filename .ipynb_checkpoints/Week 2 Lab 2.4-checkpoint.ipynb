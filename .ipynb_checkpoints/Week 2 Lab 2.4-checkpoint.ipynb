{
 "cells": [
  {
   "cell_type": "code",
   "execution_count": 63,
   "metadata": {
    "collapsed": true
   },
   "outputs": [],
   "source": [
    "import pandas as pd\n",
    "import numpy as np\n",
    "import scipy.stats as stats"
   ]
  },
  {
   "cell_type": "code",
   "execution_count": 160,
   "metadata": {
    "collapsed": false
   },
   "outputs": [],
   "source": [
    "df = pd.read_csv('./assets/datasets/billboard.csv')\n",
    "# print df.info()\n",
    "# print df.head()"
   ]
  },
  {
   "cell_type": "code",
   "execution_count": 166,
   "metadata": {
    "collapsed": false,
    "scrolled": false
   },
   "outputs": [],
   "source": [
    "# funtion to get list of non null values\n",
    "def stat(row):\n",
    "    lst =[]\n",
    "    for x in df.iloc[row, 7:84]:\n",
    "        if not pd.isnull(x):\n",
    "            lst.append(x)\n",
    "    return lst\n",
    "    \n",
    "dicty ={}\n",
    "# looping only for first 10 rows\n",
    "for i in df.index.values[:10]:\n",
    "    dicty[df.iloc[i,1] + \" - \" + df.iloc[i,2]] = {\"mean\" : np.mean(stat(i)), \"median\" : np.median(stat(i)), \"mode\": stats.mode(stat(i)),\n",
    "                     \"range\" : (np.min(stat(i)), np.max(stat(i))), \"std\" : np.std(stat(i)), \"var\" : np.var(stat(i))}\n",
    "\n",
    "# printing descriptive Statistics\n",
    "for k,v in dicty.items():\n",
    "    print k\n",
    "    for k1, v1 in v.items():\n",
    "        print k1, \":\" , v1 , \"\\t\"\n",
    "    print \n"
   ]
  },
  {
   "cell_type": "code",
   "execution_count": 157,
   "metadata": {
    "collapsed": false
   },
   "outputs": [
    {
     "data": {
      "text/plain": [
       "['Vertical Horizon - Everything You Want', 'Hill, Faith - Breathe']"
      ]
     },
     "execution_count": 157,
     "metadata": {},
     "output_type": "execute_result"
    }
   ],
   "source": [
    "# 1)which song had the most weeks in the top 10\n",
    "def lstlen(rownum):\n",
    "    lst =[]\n",
    "    for x in df.iloc[rownum, 7:84]:\n",
    "        if not pd.isnull(x) and x < 11:\n",
    "            lst.append(x)\n",
    "    return len(lst)\n",
    "\n",
    "dicty ={}\n",
    "for i in df.index.values:\n",
    "    dicty[df.iloc[i,1] + \" - \" + df.iloc[i,2]] = lstlen(i)\n",
    "\n",
    "# print dicty\n",
    "# max(dicty, key=dicty.get)\n",
    "\n",
    "[k for k,v in dicty.iteritems() if v == max(dicty.values())]"
   ]
  },
  {
   "cell_type": "code",
   "execution_count": 167,
   "metadata": {
    "collapsed": false
   },
   "outputs": [
    {
     "data": {
      "text/plain": [
       "[\"Madison Avenue - Don't Call Me Baby\"]"
      ]
     },
     "execution_count": 167,
     "metadata": {},
     "output_type": "execute_result"
    }
   ],
   "source": [
    "# 2)which song had the most weeks in positions 80-100\n",
    "\n",
    "def lstlen(rownum):\n",
    "    lst =[]\n",
    "    for x in df.iloc[rownum, 7:84]:\n",
    "        if not pd.isnull(x) and x >= 80 and x <= 100:\n",
    "            lst.append(x)\n",
    "    return len(lst)\n",
    "\n",
    "dicty ={}\n",
    "for i in df.index.values:\n",
    "    dicty[df.iloc[i,1] + \" - \" + df.iloc[i,2]] = lstlen(i)\n",
    "\n",
    "[k for k,v in dicty.iteritems() if v == max(dicty.values())]"
   ]
  }
 ],
 "metadata": {
  "anaconda-cloud": {},
  "kernelspec": {
   "display_name": "Python [default]",
   "language": "python",
   "name": "python2"
  },
  "language_info": {
   "codemirror_mode": {
    "name": "ipython",
    "version": 2
   },
   "file_extension": ".py",
   "mimetype": "text/x-python",
   "name": "python",
   "nbconvert_exporter": "python",
   "pygments_lexer": "ipython2",
   "version": "2.7.12"
  }
 },
 "nbformat": 4,
 "nbformat_minor": 1
}
